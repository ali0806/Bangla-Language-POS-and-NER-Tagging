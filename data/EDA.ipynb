{
 "cells": [
  {
   "cell_type": "markdown",
   "metadata": {},
   "source": [
    "\n",
    "# Load Dataset\n"
   ]
  },
  {
   "cell_type": "code",
   "execution_count": 1,
   "metadata": {},
   "outputs": [
    {
     "data": {
      "text/html": [
       "<div>\n",
       "<style scoped>\n",
       "    .dataframe tbody tr th:only-of-type {\n",
       "        vertical-align: middle;\n",
       "    }\n",
       "\n",
       "    .dataframe tbody tr th {\n",
       "        vertical-align: top;\n",
       "    }\n",
       "\n",
       "    .dataframe thead th {\n",
       "        text-align: right;\n",
       "    }\n",
       "</style>\n",
       "<table border=\"1\" class=\"dataframe\">\n",
       "  <thead>\n",
       "    <tr style=\"text-align: right;\">\n",
       "      <th></th>\n",
       "      <th></th>\n",
       "      <th>শনিবার (২৭ আগস্ট) রাতে পটুয়াখালী সদর থানার ভারপ্রাপ্ত কর্মকর্তা (ওসি) মো. মনিরুজ্জামান এ তথ্য নিশ্চিত করেছেন।</th>\n",
       "    </tr>\n",
       "  </thead>\n",
       "  <tbody>\n",
       "    <tr>\n",
       "      <th>শনিবার</th>\n",
       "      <th>NNP</th>\n",
       "      <td>B-D&amp;T</td>\n",
       "    </tr>\n",
       "    <tr>\n",
       "      <th>(২৭</th>\n",
       "      <th>PUNCT</th>\n",
       "      <td>B-OTH</td>\n",
       "    </tr>\n",
       "    <tr>\n",
       "      <th>আগস্ট)</th>\n",
       "      <th>NNP</th>\n",
       "      <td>B-D&amp;T</td>\n",
       "    </tr>\n",
       "    <tr>\n",
       "      <th>রাতে</th>\n",
       "      <th>NNC</th>\n",
       "      <td>B-D&amp;T</td>\n",
       "    </tr>\n",
       "    <tr>\n",
       "      <th>পটুয়াখালী</th>\n",
       "      <th>NNP</th>\n",
       "      <td>B-GPE</td>\n",
       "    </tr>\n",
       "    <tr>\n",
       "      <th>...</th>\n",
       "      <th>...</th>\n",
       "      <td>...</td>\n",
       "    </tr>\n",
       "    <tr>\n",
       "      <th>সফর</th>\n",
       "      <th>NNC</th>\n",
       "      <td>B-OTH</td>\n",
       "    </tr>\n",
       "    <tr>\n",
       "      <th>বিনিময়ের</th>\n",
       "      <th>NNC</th>\n",
       "      <td>B-OTH</td>\n",
       "    </tr>\n",
       "    <tr>\n",
       "      <th>উপর</th>\n",
       "      <th>PP</th>\n",
       "      <td>B-OTH</td>\n",
       "    </tr>\n",
       "    <tr>\n",
       "      <th>গুরুত্বারোপ</th>\n",
       "      <th>NNC</th>\n",
       "      <td>B-OTH</td>\n",
       "    </tr>\n",
       "    <tr>\n",
       "      <th>করেন।</th>\n",
       "      <th>VF</th>\n",
       "      <td>B-OTH</td>\n",
       "    </tr>\n",
       "  </tbody>\n",
       "</table>\n",
       "<p>49383 rows × 1 columns</p>\n",
       "</div>"
      ],
      "text/plain": [
       "                   শনিবার (২৭ আগস্ট) রাতে পটুয়াখালী সদর থানার ভারপ্রাপ্ত কর্মকর্তা (ওসি) মো. মনিরুজ্জামান এ তথ্য নিশ্চিত করেছেন।\n",
       "শনিবার       NNP                                                B-D&T                                                             \n",
       "(২৭          PUNCT                                              B-OTH                                                             \n",
       "আগস্ট)       NNP                                                B-D&T                                                             \n",
       "রাতে         NNC                                                B-D&T                                                             \n",
       "পটুয়াখালী   NNP                                                B-GPE                                                             \n",
       "...                                                               ...                                                             \n",
       "সফর          NNC                                                B-OTH                                                             \n",
       "বিনিময়ের    NNC                                                B-OTH                                                             \n",
       "উপর          PP                                                 B-OTH                                                             \n",
       "গুরুত্বারোপ NNC                                                B-OTH                                                             \n",
       "করেন।        VF                                                 B-OTH                                                             \n",
       "\n",
       "[49383 rows x 1 columns]"
      ]
     },
     "execution_count": 1,
     "metadata": {},
     "output_type": "execute_result"
    }
   ],
   "source": [
    "import pandas as pd\n",
    "import csv\n",
    "from pathlib import Path\n",
    "\n",
    "# Use the current working directory as the base directory\n",
    "base_dir = Path.cwd()\n",
    "\n",
    "# Construct the file path\n",
    "file_path = base_dir  / 'raw' / 'data.tsv'\n",
    "\n",
    "# file_path='/home/atik/Desktop/POS-NER-TAG/data/raw/data.tsv'\n",
    "data=pd.read_csv(file_path,sep='\\t')\n",
    "data"
   ]
  },
  {
   "cell_type": "code",
   "execution_count": 2,
   "metadata": {},
   "outputs": [
    {
     "data": {
      "text/plain": [
       "Word    শনিবার (২৭ আগস্ট) রাতে পটুয়াখালী সদর থানার ভা...\n",
       "POS                                                   NaN\n",
       "NER                                                   NaN\n",
       "Name: 0, dtype: object"
      ]
     },
     "execution_count": 2,
     "metadata": {},
     "output_type": "execute_result"
    }
   ],
   "source": [
    "df = pd.read_csv(file_path, sep='\\t', header=None, names=['Word', 'POS', 'NER'])\n",
    "df.iloc[0]"
   ]
  },
  {
   "cell_type": "markdown",
   "metadata": {},
   "source": [
    "#### Data Formatting\n",
    "\n",
    "The current data format is not suitable for our needs. We need to restructure this dataset. In the following steps, I will load the dataset and separate it into columns for sentences, tokens, and their corresponding POS and NER tags"
   ]
  },
  {
   "cell_type": "code",
   "execution_count": 3,
   "metadata": {},
   "outputs": [],
   "source": [
    "import pandas as pd\n",
    "import matplotlib.pyplot as plt\n",
    "import seaborn as sns\n",
    "\n",
    "# Function to load and preprocess the dataset\n",
    "def load_dataset(file_path):\n",
    "    sentences = []\n",
    "    words = []\n",
    "    pos_tags = []\n",
    "    ner_tags = []\n",
    "\n",
    "    with open(file_path, 'r', encoding='utf-8') as file:\n",
    "        sentence_words = []\n",
    "        sentence_pos = []\n",
    "        sentence_ner = []\n",
    "        \n",
    "        for line in file:\n",
    "            line = line.strip()\n",
    "            if not line:\n",
    "                if sentence_words:  # End of a sentence\n",
    "                    sentences.append(' '.join(sentence_words))\n",
    "                    words.extend(sentence_words)\n",
    "                    pos_tags.extend(sentence_pos)\n",
    "                    ner_tags.extend(sentence_ner)\n",
    "                    sentence_words = []\n",
    "                    sentence_pos = []\n",
    "                    sentence_ner = []\n",
    "            else:\n",
    "                parts = line.split('\\t')\n",
    "                if len(parts) == 3:\n",
    "                    word, pos, ner = parts\n",
    "                    sentence_words.append(word)\n",
    "                    sentence_pos.append(pos)\n",
    "                    sentence_ner.append(ner)\n",
    "        \n",
    "        # Append the last sentence if file does not end with a newline\n",
    "        if sentence_words:\n",
    "            sentences.append(' '.join(sentence_words))\n",
    "            words.extend(sentence_words)\n",
    "            pos_tags.extend(sentence_pos)\n",
    "            ner_tags.extend(sentence_ner)\n",
    "\n",
    "    return pd.DataFrame({'Word': words, 'POS': pos_tags, 'NER': ner_tags}), sentences\n",
    "\n",
    "# Load the dataset\n",
    "df,sentences = load_dataset(file_path)\n"
   ]
  },
  {
   "cell_type": "code",
   "execution_count": 4,
   "metadata": {},
   "outputs": [
    {
     "data": {
      "text/html": [
       "<div>\n",
       "<style scoped>\n",
       "    .dataframe tbody tr th:only-of-type {\n",
       "        vertical-align: middle;\n",
       "    }\n",
       "\n",
       "    .dataframe tbody tr th {\n",
       "        vertical-align: top;\n",
       "    }\n",
       "\n",
       "    .dataframe thead th {\n",
       "        text-align: right;\n",
       "    }\n",
       "</style>\n",
       "<table border=\"1\" class=\"dataframe\">\n",
       "  <thead>\n",
       "    <tr style=\"text-align: right;\">\n",
       "      <th></th>\n",
       "      <th>Word</th>\n",
       "      <th>POS</th>\n",
       "      <th>NER</th>\n",
       "    </tr>\n",
       "  </thead>\n",
       "  <tbody>\n",
       "    <tr>\n",
       "      <th>0</th>\n",
       "      <td>শনিবার</td>\n",
       "      <td>NNP</td>\n",
       "      <td>B-D&amp;T</td>\n",
       "    </tr>\n",
       "    <tr>\n",
       "      <th>1</th>\n",
       "      <td>(২৭</td>\n",
       "      <td>PUNCT</td>\n",
       "      <td>B-OTH</td>\n",
       "    </tr>\n",
       "    <tr>\n",
       "      <th>2</th>\n",
       "      <td>আগস্ট)</td>\n",
       "      <td>NNP</td>\n",
       "      <td>B-D&amp;T</td>\n",
       "    </tr>\n",
       "    <tr>\n",
       "      <th>3</th>\n",
       "      <td>রাতে</td>\n",
       "      <td>NNC</td>\n",
       "      <td>B-D&amp;T</td>\n",
       "    </tr>\n",
       "    <tr>\n",
       "      <th>4</th>\n",
       "      <td>পটুয়াখালী</td>\n",
       "      <td>NNP</td>\n",
       "      <td>B-GPE</td>\n",
       "    </tr>\n",
       "  </tbody>\n",
       "</table>\n",
       "</div>"
      ],
      "text/plain": [
       "         Word    POS    NER\n",
       "0      শনিবার    NNP  B-D&T\n",
       "1         (২৭  PUNCT  B-OTH\n",
       "2      আগস্ট)    NNP  B-D&T\n",
       "3        রাতে    NNC  B-D&T\n",
       "4  পটুয়াখালী    NNP  B-GPE"
      ]
     },
     "execution_count": 4,
     "metadata": {},
     "output_type": "execute_result"
    }
   ],
   "source": [
    "df.head()\n"
   ]
  },
  {
   "cell_type": "markdown",
   "metadata": {},
   "source": [
    "### Extracting Unique POS and NER Tags\n",
    "\n",
    "In this section, we extract and count the unique Part-of-Speech (POS) tags and Named Entity Recognition (NER) tags from the dataset. \n"
   ]
  },
  {
   "cell_type": "code",
   "execution_count": 5,
   "metadata": {},
   "outputs": [
    {
     "name": "stdout",
     "output_type": "stream",
     "text": [
      "Unique NER Tags : ['B-D&T' 'B-OTH' 'B-GPE' 'I-GPE' 'B-PER' 'I-PER' 'B-LOC' 'I-LOC' 'B-ORG'\n",
      " 'B-EVENT' 'I-EVENT' 'B-NUM' 'I-ORG' 'I-D&T' 'B-UNIT' 'B-MISC' 'B-T&T'\n",
      " 'I-NUM' 'I-T&T' 'I-MISC' 'I-UNIT']\n",
      "Unique NER Tags : ['NNP' 'PUNCT' 'NNC' 'ADJ' 'DET' 'VF' 'CONJ' 'PRO' 'VNF' 'PP' 'QF' 'ADV'\n",
      " 'PART' 'OTH' 'INTJ']\n"
     ]
    }
   ],
   "source": [
    "unique_pos_tags = df['POS'].unique()\n",
    "num_unique_pos_tags = len(unique_pos_tags)\n",
    "\n",
    "# Find unique NER tags\n",
    "unique_ner_tags = df['NER'].unique()\n",
    "num_unique_ner_tags = len(unique_ner_tags)\n",
    "print(\"Unique NER Tags :\",unique_ner_tags)\n",
    "print(\"Unique NER Tags :\",unique_pos_tags)"
   ]
  },
  {
   "cell_type": "markdown",
   "metadata": {},
   "source": [
    "#### Basic Information\n",
    "Number of column and Null value check\n",
    "\n"
   ]
  },
  {
   "cell_type": "code",
   "execution_count": 6,
   "metadata": {},
   "outputs": [
    {
     "name": "stdout",
     "output_type": "stream",
     "text": [
      "\n",
      "Basic Information:\n",
      "<class 'pandas.core.frame.DataFrame'>\n",
      "RangeIndex: 78374 entries, 0 to 78373\n",
      "Data columns (total 3 columns):\n",
      " #   Column  Non-Null Count  Dtype \n",
      "---  ------  --------------  ----- \n",
      " 0   Word    78374 non-null  object\n",
      " 1   POS     78374 non-null  object\n",
      " 2   NER     78374 non-null  object\n",
      "dtypes: object(3)\n",
      "memory usage: 1.8+ MB\n",
      "None\n"
     ]
    }
   ],
   "source": [
    "# Basic Information\n",
    "print(\"\\nBasic Information:\")\n",
    "print(df.info())"
   ]
  },
  {
   "cell_type": "markdown",
   "metadata": {},
   "source": [
    "#### Summary Statistics\n"
   ]
  },
  {
   "cell_type": "code",
   "execution_count": 7,
   "metadata": {},
   "outputs": [
    {
     "name": "stdout",
     "output_type": "stream",
     "text": [
      "\n",
      "Summary Statistics:\n",
      "         Word    POS    NER\n",
      "count   78374  78374  78374\n",
      "unique  23752     15     21\n",
      "top         ও    NNC  B-OTH\n",
      "freq      763  30660  53550\n"
     ]
    }
   ],
   "source": [
    "\n",
    "print(\"\\nSummary Statistics:\")\n",
    "print(df.describe(include='all'))"
   ]
  },
  {
   "cell_type": "markdown",
   "metadata": {},
   "source": [
    "#### Length Of Unique POS and NER Tag"
   ]
  },
  {
   "cell_type": "code",
   "execution_count": 8,
   "metadata": {},
   "outputs": [
    {
     "name": "stdout",
     "output_type": "stream",
     "text": [
      "Number of Unique POS Tags: 15\n",
      "Number of Unique NER Tags: 21\n"
     ]
    }
   ],
   "source": [
    "# Unique Values in POS and NER Tags\n",
    "\n",
    "print(\"Number of Unique POS Tags:\", len(unique_pos_tags))\n",
    "\n",
    "print(\"Number of Unique NER Tags:\", len(unique_ner_tags))\n"
   ]
  },
  {
   "cell_type": "markdown",
   "metadata": {},
   "source": [
    "### Frequency Of POS and NER Tag "
   ]
  },
  {
   "cell_type": "code",
   "execution_count": 9,
   "metadata": {},
   "outputs": [
    {
     "name": "stdout",
     "output_type": "stream",
     "text": [
      "\n",
      "POS Tag Counts:\n",
      "POS\n",
      "NNC      30660\n",
      "NNP      12977\n",
      "ADJ       8076\n",
      "VF        7601\n",
      "QF        3364\n",
      "PP        3149\n",
      "VNF       2767\n",
      "ADV       2567\n",
      "PRO       2422\n",
      "CONJ      1642\n",
      "PUNCT     1520\n",
      "DET       1330\n",
      "PART       150\n",
      "OTH        113\n",
      "INTJ        36\n",
      "Name: count, dtype: int64\n",
      "\n",
      "NER Tag Counts:\n",
      "NER\n",
      "B-OTH      53550\n",
      "B-PER       6158\n",
      "B-ORG       2742\n",
      "I-PER       2468\n",
      "B-NUM       2292\n",
      "I-ORG       1943\n",
      "B-GPE       1746\n",
      "B-D&T       1671\n",
      "I-D&T       1353\n",
      "B-EVENT      991\n",
      "B-LOC        797\n",
      "B-UNIT       546\n",
      "I-EVENT      446\n",
      "I-LOC        442\n",
      "I-NUM        427\n",
      "B-MISC       383\n",
      "B-T&T        172\n",
      "I-GPE         85\n",
      "I-T&T         77\n",
      "I-MISC        65\n",
      "I-UNIT        20\n",
      "Name: count, dtype: int64\n"
     ]
    }
   ],
   "source": [
    "# Distribution of POS and NER Tags\n",
    "pos_tag_counts = df['POS'].value_counts()\n",
    "ner_tag_counts = df['NER'].value_counts()\n",
    "\n",
    "print(\"\\nPOS Tag Counts:\")\n",
    "print(pos_tag_counts)\n",
    "\n",
    "print(\"\\nNER Tag Counts:\")\n",
    "print(ner_tag_counts)"
   ]
  },
  {
   "cell_type": "markdown",
   "metadata": {},
   "source": [
    "### Visualization of POS Tags Frequency\n"
   ]
  },
  {
   "cell_type": "code",
   "execution_count": 10,
   "metadata": {},
   "outputs": [
    {
     "data": {
      "image/png": "[encoded data removed]",
      "text/plain": [
       "<Figure size 1200x800 with 1 Axes>"
      ]
     },
     "metadata": {},
     "output_type": "display_data"
    }
   ],
   "source": [
    "plt.figure(figsize=(12, 8))\n",
    "sns.countplot(x='POS', data=df, order=pos_tag_counts.index)\n",
    "plt.title('Distribution of POS Tags')\n",
    "plt.xlabel('POS Tag')\n",
    "plt.ylabel('Count')\n",
    "plt.xticks(rotation=45)\n",
    "plt.show()\n"
   ]
  },
  {
   "cell_type": "markdown",
   "metadata": {},
   "source": [
    "#### Visualization of NER Tags Frequency\n"
   ]
  },
  {
   "cell_type": "code",
   "execution_count": 11,
   "metadata": {},
   "outputs": [
    {
     "data": {
      "image/png": "[encoded data removed]",
      "text/plain": [
       "<Figure size 1200x800 with 1 Axes>"
      ]
     },
     "metadata": {},
     "output_type": "display_data"
    }
   ],
   "source": [
    "plt.figure(figsize=(12, 8))\n",
    "sns.countplot(x='NER', data=df, order=ner_tag_counts.index)\n",
    "plt.title('Distribution of NER Tags')\n",
    "plt.xlabel('NER Tag')\n",
    "plt.ylabel('Count')\n",
    "plt.xticks(rotation=45)\n",
    "plt.show()"
   ]
  }
 ],
 "metadata": {
  "kernelspec": {
   "display_name": "ml-env",
   "language": "python",
   "name": "python3"
  },
  "language_info": {
   "codemirror_mode": {
    "name": "ipython",
    "version": 3
   },
   "file_extension": ".py",
   "mimetype": "text/x-python",
   "name": "python",
   "nbconvert_exporter": "python",
   "pygments_lexer": "ipython3",
   "version": "3.10.12"
  }
 },
 "nbformat": 4,
 "nbformat_minor": 2
}
